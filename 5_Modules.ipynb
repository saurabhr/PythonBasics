{
 "cells": [
  {
   "cell_type": "markdown",
   "metadata": {},
   "source": [
    "# Modules "
   ]
  },
  {
   "cell_type": "markdown",
   "metadata": {},
   "source": [
    "A module can be imported by another program to make use of its functionality. This is how we can use the Python standard\n",
    "library as well."
   ]
  },
  {
   "cell_type": "code",
   "execution_count": 1,
   "metadata": {},
   "outputs": [
    {
     "name": "stdout",
     "output_type": "stream",
     "text": [
      "The command line arguments are:\n",
      "C:\\Users\\saurabh\\Anaconda3\\lib\\site-packages\\ipykernel_launcher.py\n",
      "-f\n",
      "C:\\Users\\saurabh\\AppData\\Roaming\\jupyter\\runtime\\kernel-3ce25783-ccc3-4ca5-81e3-fe1f92c8bfd7.json\n",
      "\n",
      "\n",
      "The PYTHONPATH is ['C:\\\\Users\\\\saurabh', 'C:\\\\Users\\\\saurabh\\\\Anaconda3\\\\python37.zip', 'C:\\\\Users\\\\saurabh\\\\Anaconda3\\\\DLLs', 'C:\\\\Users\\\\saurabh\\\\Anaconda3\\\\lib', 'C:\\\\Users\\\\saurabh\\\\Anaconda3', '', 'C:\\\\Users\\\\saurabh\\\\AppData\\\\Roaming\\\\Python\\\\Python37\\\\site-packages', 'C:\\\\Users\\\\saurabh\\\\Anaconda3\\\\lib\\\\site-packages', 'C:\\\\Users\\\\saurabh\\\\Anaconda3\\\\lib\\\\site-packages\\\\win32', 'C:\\\\Users\\\\saurabh\\\\Anaconda3\\\\lib\\\\site-packages\\\\win32\\\\lib', 'C:\\\\Users\\\\saurabh\\\\Anaconda3\\\\lib\\\\site-packages\\\\Pythonwin', 'C:\\\\Users\\\\saurabh\\\\Anaconda3\\\\lib\\\\site-packages\\\\IPython\\\\extensions', 'C:\\\\Users\\\\saurabh\\\\.ipython'] \n",
      "\n"
     ]
    }
   ],
   "source": [
    "import sys\n",
    "print('The command line arguments are:')\n",
    "for i in sys.argv:\n",
    "    print(i)\n",
    "print('\\n\\nThe PYTHONPATH is', sys.path, '\\n')"
   ]
  },
  {
   "cell_type": "markdown",
   "metadata": {},
   "source": [
    "First, we import the sys module using the import statement. Basically, this translates to us telling Python that we want to use\n",
    "this module. The sys module contains functionality related to the Python interpreter and its environment i.e. the system."
   ]
  },
  {
   "cell_type": "markdown",
   "metadata": {},
   "source": [
    "When Python executes the import sys statement, it looks for the sys module."
   ]
  },
  {
   "cell_type": "markdown",
   "metadata": {},
   "source": [
    "When Python executes the import sys statement, it looks for the sys module. In this case, it is one of the built-in modules,\n",
    "and hence Python knows where to find it.\n",
    "If it was not a compiled module i.e. a module written in Python, then the Python interpreter will search for it in the directories\n",
    "listed in its sys.path variable. If the module is found, then the statements in the body of that module are run and the module is\n",
    "made available for you to use. Note that the initialization is done only the first time that we import a module.\n",
    "The argv variable in the sys module is accessed using the dotted notation i.e. sys.argv . It clearly indicates that this name is\n",
    "part of the sys module. Another advantage of this approach is that the name does not clash with any argv variable used in\n",
    "your program."
   ]
  },
  {
   "cell_type": "markdown",
   "metadata": {},
   "source": [
    "Specifically, the sys.argv contains the\n",
    "list of command line arguments i.e. the arguments passed to your program using the command line."
   ]
  },
  {
   "cell_type": "markdown",
   "metadata": {},
   "source": [
    "The sys.path contains the list of directory names where modules are imported from. Observe that the first string in sys.path\n",
    "is empty - this empty string indicates that the current directory is also part of the sys.path which is same as the PYTHONPATH\n",
    "environment variable. This means that you can directly import modules located in the current directory. Otherwise, you will have\n",
    "to place your module in one of the directories listed in sys.path .\n",
    "Note that the current directory is the directory from which the program is launched. Run import os; print(os.getcwd()) to\n",
    "find out the current directory of your program."
   ]
  },
  {
   "cell_type": "markdown",
   "metadata": {},
   "source": [
    "Importing a module is a relatively costly affair, so Python does some tricks to make it faster. One way is to create byte-compiled\n",
    "files with the extension .pyc which is an intermediate form that Python transforms the program into."
   ]
  },
  {
   "cell_type": "markdown",
   "metadata": {},
   "source": [
    "This .pyc file is useful when you import the module the next time from a different program - it\n",
    "will be much faster since a portion of the processing required in importing a module is already done. Also, these byte-compiled\n",
    "files are platform-independent."
   ]
  },
  {
   "cell_type": "markdown",
   "metadata": {},
   "source": [
    "NOTE: These .pyc files are usually created in the same directory as the corresponding .py files. If Python does not have\n",
    "permission to write to files in that directory, then the .pyc files will not be created."
   ]
  },
  {
   "cell_type": "markdown",
   "metadata": {},
   "source": [
    "# 1) from ....import statement"
   ]
  },
  {
   "cell_type": "markdown",
   "metadata": {},
   "source": [
    "If you want to directly import the argv variable into your program (to avoid typing the sys. everytime for it), then you can\n",
    "use the from sys import argv statement.\n",
    "WARNING: In general, avoid using the from..import statement, use the import statement instead. This is because\n",
    "your program will avoid name clashes and will be more readable."
   ]
  },
  {
   "cell_type": "code",
   "execution_count": 3,
   "metadata": {},
   "outputs": [
    {
     "name": "stdout",
     "output_type": "stream",
     "text": [
      "Square root of 16 is 4.0\n"
     ]
    }
   ],
   "source": [
    "from math import sqrt\n",
    "print(\"Square root of 16 is\", sqrt(16))"
   ]
  },
  {
   "cell_type": "markdown",
   "metadata": {},
   "source": [
    "# 2) a module's \\_\\_name\\_\\_"
   ]
  },
  {
   "cell_type": "code",
   "execution_count": 4,
   "metadata": {},
   "outputs": [
    {
     "name": "stdout",
     "output_type": "stream",
     "text": [
      "This program is being run by itself\n"
     ]
    }
   ],
   "source": [
    "if __name__ == '__main__':\n",
    "    print('This program is being run by itself')\n",
    "else:\n",
    "    print('I am being imported from another module')"
   ]
  },
  {
   "cell_type": "code",
   "execution_count": 5,
   "metadata": {},
   "outputs": [
    {
     "name": "stdout",
     "output_type": "stream",
     "text": [
      "I am being imported from another module\n"
     ]
    }
   ],
   "source": [
    "import module_using_name"
   ]
  },
  {
   "cell_type": "markdown",
   "metadata": {},
   "source": [
    "when this code is imported it will print the else string"
   ]
  },
  {
   "cell_type": "markdown",
   "metadata": {},
   "source": [
    "Every Python module has its \\_\\_name\\_\\_ defined. If this is '\\_\\_main\\_\\_' , that implies that the module is being run standalone by\n",
    "the user and we can take appropriate actions."
   ]
  },
  {
   "cell_type": "markdown",
   "metadata": {},
   "source": [
    "# 3) Making your Own Modules"
   ]
  },
  {
   "cell_type": "code",
   "execution_count": 7,
   "metadata": {},
   "outputs": [
    {
     "data": {
      "text/plain": [
       "\"\\ndef say_hi():\\n    print('Hi, this is mymodule speaking.')\\n__version__ = '0.1'\\n\""
      ]
     },
     "execution_count": 7,
     "metadata": {},
     "output_type": "execute_result"
    }
   ],
   "source": [
    "#make a .py file with following file named as mymodule.py\n",
    "\"\"\"\n",
    "def say_hi():\n",
    "    print('Hi, this is mymodule speaking.')\n",
    "__version__ = '0.1'\n",
    "\"\"\""
   ]
  },
  {
   "cell_type": "code",
   "execution_count": 8,
   "metadata": {},
   "outputs": [],
   "source": [
    "import mymodule"
   ]
  },
  {
   "cell_type": "code",
   "execution_count": 9,
   "metadata": {},
   "outputs": [
    {
     "name": "stdout",
     "output_type": "stream",
     "text": [
      "Hi, this is mymodule speaking.\n"
     ]
    }
   ],
   "source": [
    "mymodule.say_hi()"
   ]
  },
  {
   "cell_type": "code",
   "execution_count": 11,
   "metadata": {},
   "outputs": [
    {
     "data": {
      "text/plain": [
       "'0.1'"
      ]
     },
     "execution_count": 11,
     "metadata": {},
     "output_type": "execute_result"
    }
   ],
   "source": [
    "mymodule.__version__"
   ]
  },
  {
   "cell_type": "code",
   "execution_count": 12,
   "metadata": {},
   "outputs": [
    {
     "name": "stdout",
     "output_type": "stream",
     "text": [
      "Hi, this is mymodule speaking.\n",
      "Version 0.1\n"
     ]
    }
   ],
   "source": [
    "from mymodule import say_hi, __version__\n",
    "say_hi()\n",
    "print('Version', __version__)"
   ]
  },
  {
   "cell_type": "code",
   "execution_count": 13,
   "metadata": {},
   "outputs": [],
   "source": [
    "from mymodule import *"
   ]
  },
  {
   "cell_type": "markdown",
   "metadata": {},
   "source": [
    "This will import all public names such as say_hi but would not import \\_\\_version\\_\\_ because it starts with double underscores.\n",
    "WARNING: Remember that you should avoid using import-star, i.e. from mymodule import * ."
   ]
  },
  {
   "cell_type": "markdown",
   "metadata": {},
   "source": [
    "# 4) dir() function"
   ]
  },
  {
   "cell_type": "markdown",
   "metadata": {},
   "source": [
    "The built-in dir() function returns the list of names defined by an object. If the object is a module, this list includes functions,\n",
    "classes and variables, defined inside that module."
   ]
  },
  {
   "cell_type": "markdown",
   "metadata": {},
   "source": [
    "This function can accept arguments. If the argument is the name of a module, the function returns the list of names from that\n",
    "specified module. If there is no argument, the function returns the list of names from the current module"
   ]
  },
  {
   "cell_type": "code",
   "execution_count": 15,
   "metadata": {},
   "outputs": [
    {
     "data": {
      "text/plain": [
       "['In',\n",
       " 'Out',\n",
       " '_',\n",
       " '_11',\n",
       " '_2',\n",
       " '_6',\n",
       " '_7',\n",
       " '__',\n",
       " '___',\n",
       " '__builtin__',\n",
       " '__builtins__',\n",
       " '__doc__',\n",
       " '__loader__',\n",
       " '__name__',\n",
       " '__package__',\n",
       " '__spec__',\n",
       " '__version__',\n",
       " '_dh',\n",
       " '_i',\n",
       " '_i1',\n",
       " '_i10',\n",
       " '_i11',\n",
       " '_i12',\n",
       " '_i13',\n",
       " '_i14',\n",
       " '_i15',\n",
       " '_i2',\n",
       " '_i3',\n",
       " '_i4',\n",
       " '_i5',\n",
       " '_i6',\n",
       " '_i7',\n",
       " '_i8',\n",
       " '_i9',\n",
       " '_ih',\n",
       " '_ii',\n",
       " '_iii',\n",
       " '_oh',\n",
       " 'exit',\n",
       " 'get_ipython',\n",
       " 'i',\n",
       " 'module_using_name',\n",
       " 'mymodule',\n",
       " 'quit',\n",
       " 'say_hi',\n",
       " 'sqrt',\n",
       " 'sys']"
      ]
     },
     "execution_count": 15,
     "metadata": {},
     "output_type": "execute_result"
    }
   ],
   "source": [
    "dir()"
   ]
  },
  {
   "cell_type": "code",
   "execution_count": 16,
   "metadata": {},
   "outputs": [
    {
     "data": {
      "text/plain": [
       "['__breakpointhook__',\n",
       " '__displayhook__',\n",
       " '__doc__',\n",
       " '__excepthook__',\n",
       " '__interactivehook__',\n",
       " '__loader__',\n",
       " '__name__',\n",
       " '__package__',\n",
       " '__spec__',\n",
       " '__stderr__',\n",
       " '__stdin__',\n",
       " '__stdout__',\n",
       " '_clear_type_cache',\n",
       " '_current_frames',\n",
       " '_debugmallocstats',\n",
       " '_enablelegacywindowsfsencoding',\n",
       " '_framework',\n",
       " '_getframe',\n",
       " '_git',\n",
       " '_home',\n",
       " '_xoptions',\n",
       " 'api_version',\n",
       " 'argv',\n",
       " 'base_exec_prefix',\n",
       " 'base_prefix',\n",
       " 'breakpointhook',\n",
       " 'builtin_module_names',\n",
       " 'byteorder',\n",
       " 'call_tracing',\n",
       " 'callstats',\n",
       " 'copyright',\n",
       " 'displayhook',\n",
       " 'dllhandle',\n",
       " 'dont_write_bytecode',\n",
       " 'exc_info',\n",
       " 'excepthook',\n",
       " 'exec_prefix',\n",
       " 'executable',\n",
       " 'exit',\n",
       " 'flags',\n",
       " 'float_info',\n",
       " 'float_repr_style',\n",
       " 'get_asyncgen_hooks',\n",
       " 'get_coroutine_origin_tracking_depth',\n",
       " 'get_coroutine_wrapper',\n",
       " 'getallocatedblocks',\n",
       " 'getcheckinterval',\n",
       " 'getdefaultencoding',\n",
       " 'getfilesystemencodeerrors',\n",
       " 'getfilesystemencoding',\n",
       " 'getprofile',\n",
       " 'getrecursionlimit',\n",
       " 'getrefcount',\n",
       " 'getsizeof',\n",
       " 'getswitchinterval',\n",
       " 'gettrace',\n",
       " 'getwindowsversion',\n",
       " 'hash_info',\n",
       " 'hexversion',\n",
       " 'implementation',\n",
       " 'int_info',\n",
       " 'intern',\n",
       " 'is_finalizing',\n",
       " 'last_traceback',\n",
       " 'last_type',\n",
       " 'last_value',\n",
       " 'maxsize',\n",
       " 'maxunicode',\n",
       " 'meta_path',\n",
       " 'modules',\n",
       " 'path',\n",
       " 'path_hooks',\n",
       " 'path_importer_cache',\n",
       " 'platform',\n",
       " 'prefix',\n",
       " 'ps1',\n",
       " 'ps2',\n",
       " 'ps3',\n",
       " 'set_asyncgen_hooks',\n",
       " 'set_coroutine_origin_tracking_depth',\n",
       " 'set_coroutine_wrapper',\n",
       " 'setcheckinterval',\n",
       " 'setprofile',\n",
       " 'setrecursionlimit',\n",
       " 'setswitchinterval',\n",
       " 'settrace',\n",
       " 'stderr',\n",
       " 'stdin',\n",
       " 'stdout',\n",
       " 'thread_info',\n",
       " 'version',\n",
       " 'version_info',\n",
       " 'warnoptions',\n",
       " 'winver']"
      ]
     },
     "execution_count": 16,
     "metadata": {},
     "output_type": "execute_result"
    }
   ],
   "source": [
    "dir(sys)"
   ]
  },
  {
   "cell_type": "markdown",
   "metadata": {},
   "source": [
    "Note that the dir() function works on any object. For example, run dir(str) for the attributes of the str (string) class.\n",
    "There is also a vars() function which can potentially give you the attributes and their values, but it will not work for all cases."
   ]
  },
  {
   "cell_type": "markdown",
   "metadata": {},
   "source": [
    "# 5) Packages"
   ]
  },
  {
   "cell_type": "markdown",
   "metadata": {},
   "source": [
    "Packages are just folders of modules with a special __init__.py file that indicates to Python that this folder is special because it\n",
    "contains Python modules."
   ]
  },
  {
   "cell_type": "markdown",
   "metadata": {},
   "source": [
    "\\- \\<some folder present in the sys.path\\>/\n",
    "    \n",
    "\\- world/\n",
    "    \n",
    "    - __init__.py\n",
    "    \n",
    "    - asia/\n",
    "    \n",
    "        - __init__.py\n",
    "    \n",
    "        - india/\n",
    "    \n",
    "            - __init__.py\n",
    "    \n",
    "            - foo.py\n",
    "    \n",
    "    - africa/\n",
    "    \n",
    "        - __init__.py\n",
    "    \n",
    "        - madagascar/\n",
    "    \n",
    "            - __init__.py\n",
    "    \n",
    "            - bar.py"
   ]
  },
  {
   "cell_type": "code",
   "execution_count": null,
   "metadata": {},
   "outputs": [],
   "source": []
  }
 ],
 "metadata": {
  "kernelspec": {
   "display_name": "Python 3",
   "language": "python",
   "name": "python3"
  },
  "language_info": {
   "codemirror_mode": {
    "name": "ipython",
    "version": 3
   },
   "file_extension": ".py",
   "mimetype": "text/x-python",
   "name": "python",
   "nbconvert_exporter": "python",
   "pygments_lexer": "ipython3",
   "version": "3.7.1"
  }
 },
 "nbformat": 4,
 "nbformat_minor": 4
}
