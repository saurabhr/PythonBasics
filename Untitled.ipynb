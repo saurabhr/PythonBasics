{
 "cells": [
  {
   "cell_type": "markdown",
   "metadata": {},
   "source": [
    "_$$ Cognitive Depth $$_"
   ]
  },
  {
   "cell_type": "markdown",
   "metadata": {},
   "source": [
    "# _$Cognitive Depth$_"
   ]
  },
  {
   "cell_type": "code",
   "execution_count": null,
   "metadata": {},
   "outputs": [],
   "source": [
    "In Deep Learning the depth of the heirarcy coumptains to form feautres (representations) two types of ways are used to divide heirarchy:\n",
    "* 1) "
   ]
  }
 ],
 "metadata": {
  "kernelspec": {
   "display_name": "",
   "name": ""
  },
  "language_info": {
   "name": ""
  }
 },
 "nbformat": 4,
 "nbformat_minor": 4
}
