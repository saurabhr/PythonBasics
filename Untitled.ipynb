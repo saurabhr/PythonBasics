{
 "cells": [
  {
   "cell_type": "markdown",
   "metadata": {},
   "source": [
    "Two types of variables:\n",
    "\n",
    "    1. Class variables:\n",
    "        shared and are accessible to all the instances of that class. There is only one copy of the class variable and when any one object makes a change to the class variable, that change will be seen by all the other instances.\n",
    "    \n",
    "    2. Object variables:\n",
    "        are owned by each individual object/instance of the class. Each object has its own copy of the field i.e. they are not related in anyway to the field by the same name in a different instance. \n",
    "    \n"
   ]
  },
  {
   "cell_type": "code",
   "execution_count": 6,
   "metadata": {},
   "outputs": [
    {
     "name": "stdout",
     "output_type": "stream",
     "text": [
      "(Initializing R2-D2)\n",
      "Greetings, my masters call me R2-D2.\n",
      "We have 1 robots.\n",
      "(Initializing C-3PO)\n",
      "Greetings, my masters call me C-3PO.\n",
      "We have 2 robots.\n",
      "\n",
      "Robots can do some work here.\n",
      "\n",
      "Robots have finished their work. So let's destroy them.\n",
      "C-3PO is being destroyed!\n",
      "There are still 1 robots working.\n",
      "We have 1 robots.\n"
     ]
    }
   ],
   "source": [
    "class Robot:\n",
    "    \"\"\"Represents a robot, with a name.\"\"\"\n",
    "    # A class variable, counting the number of robots\n",
    "    population = 0 \n",
    "    \n",
    "    def __init__(self, name):\n",
    "        \"\"\"Initializes the data.\"\"\"\n",
    "        self.name = name\n",
    "        print(\"(Initializing {})\".format(self.name))\n",
    "        # When this person is created, the robot # adds to the population \n",
    "        Robot.population += 1\n",
    "\n",
    "    def die(self):\n",
    "        \"\"\"I am dying.\"\"\"\n",
    "        print(\"{} is being destroyed!\".format(self.name))\n",
    "        Robot.population -= 1\n",
    "        if Robot.population == 0:\n",
    "            print(\"{} was the last one.\".format(self.name))\n",
    "        else:\n",
    "            print(\"There are still {:d} robots working.\".format(Robot.population)) \n",
    "    \n",
    "    def say_hi(self):\n",
    "        \"\"\"Greeting by the robot. Yeah, they can do that.\"\"\"\n",
    "        print(\"Greetings, my masters call me {}.\".format(self.name))\n",
    "    \n",
    "    @classmethod\n",
    "    def how_many(cls):\n",
    "        \"\"\"Prints the current population.\"\"\"\n",
    "        print(\"We have {:d} robots.\".format(cls.population))\n",
    "\n",
    "droid1 = Robot(\"R2-D2\") \n",
    "droid1.say_hi() \n",
    "Robot.how_many()\n",
    "\n",
    "droid2 = Robot(\"C-3PO\")\n",
    "droid2.say_hi()\n",
    "Robot.how_many()\n",
    "print(\"\\nRobots can do some work here.\\n\")\n",
    "print(\"Robots have finished their work. So let's destroy them.\") \n",
    "#droid1.die()\n",
    "droid2.die()\n",
    "Robot.how_many()"
   ]
  },
  {
   "cell_type": "code",
   "execution_count": 8,
   "metadata": {},
   "outputs": [
    {
     "name": "stdout",
     "output_type": "stream",
     "text": [
      "We have 1 robots.\n"
     ]
    }
   ],
   "source": [
    "droid2.how_many()"
   ]
  },
  {
   "cell_type": "markdown",
   "metadata": {},
   "source": [
    "his is a long example but helps demonstrate the nature of class and object variables. Here, population belongs to the Robot class and hence is a class variable. The name variable belongs to the object (it is assigned using self ) and hence is an object variable.\n",
    "Thus, we refer to the   class variable as Robot.population and not as self.population . We refer to the object variable name using   notation in the methods of that object. Remember this simple difference between class and object variables. Also note that an object variable with the same name as a class variable will hide the class variable!\n",
    "Instead of Robot.population , we could have also used self.__class__.population because every object refers to its class via the self.__class__ attribute.\n",
    "The   is actually a method that belongs to the class and not to the object. This means we can define it as either a\n",
    "population\n",
    "self.name\n",
    "how_many\n",
    "  or a variable, let's use\n",
    "depending on whether we need to know which class we are part of. Since we refer to a class\n",
    "classmethod\n",
    "staticmethod\n",
    " classmethod\n",
    "how_many\n",
    "method as a class method using a decorator.\n",
    ".\n",
    "We have marked the\n",
    "Decorators can be imagined to be a shortcut to calling a wrapper function (i.e. a function that \"wraps\" around another function so\n",
    "that it can do something before or after the inner function), so applying the @classmethod decorator is the same as calling:\n",
    "Observe that the __init__ method is used to initialize the Robot instance with a name. In this method, we increase the population count by 1 since we have one more robot being added. Also observe that the values of self.name is specific to\n",
    "each object which indicates the nature of object variables.\n",
    "Remember, that you must refer to the variables and methods of the same object using the self only. This is called an attribute\n",
    "reference.\n",
    "In this program, we also see the use of docstrings for classes as well as methods. We can access the class docstring at runtime\n",
    "using Robot.__doc__ and the method docstring as Robot.say_hi.__doc__\n",
    "In the die method, we simply decrease the Robot.population count by 1.\n",
    "All class members are public. One exception: If you use data members with names using the double underscore prefix such as __privatevar ,Pythonusesname-manglingtoeffectivelymakeitaprivatevariable.\n",
    "Thus, the convention followed is that any variable that is to be used only within the class or object should begin with an underscore and all other names are public and can be used by other classes/objects. Remember that this is only a convention and is not enforced by Python (except for the double underscore prefix)."
   ]
  },
  {
   "cell_type": "markdown",
   "metadata": {},
   "source": [
    "# ) Inheritance"
   ]
  },
  {
   "cell_type": "markdown",
   "metadata": {},
   "source": [
    "Inheritence is one of the way code can be reused. Inheritance can be imagined as implementing a type and subtype relationship between classes."
   ]
  },
  {
   "cell_type": "markdown",
   "metadata": {},
   "source": [
    "Suppose you want to write a program which has to keep track of the teachers and students in a college. They have some common characteristics such as name, age and address. They also have specific characteristics such as salary, courses and leaves for teachers and, marks and fees for students.  "
   ]
  },
  {
   "cell_type": "markdown",
   "metadata": {},
   "source": [
    "You can create two independent classes for each type and process them but adding a new common characteristic would mean adding to both of these independent classes. This quickly becomes unwieldy.\n",
    "\n",
    "A better way would be to create a common class called SchoolMember and then have the teacher and student classes inherit from this class, i.e. they will become sub-types of this type (class) and then we can add specific characteristics to these sub-types.\n",
    "\n",
    "There are many advantages to this approach. If we add/change any functionality in SchoolMember , this is automatically reflected in the subtypes as well. For example, you can add a new ID card field for both teachers and students by simply adding it to the SchoolMember class. However, changes in the subtypes do not affect other subtypes. Another advantage is that you can refer to a teacher or student object as a SchoolMember object which could be useful in some situations such as counting of the number of school members. This is called polymorphism where a sub-type can be substituted in any situation where a parent type is expected, i.e. the object can be treated as an instance of the parent class.\n",
    "\n",
    "Also observe that we reuse the code of the parent class and we do not need to repeat it in the different classes as we would have had to in case we had used independent classes.\n",
    "\n",
    "The SchoolMember class in this situation is known as the base class or the superclass. The Teacher and Student classes are called the derived classes or subclasses."
   ]
  },
  {
   "cell_type": "code",
   "execution_count": 9,
   "metadata": {},
   "outputs": [
    {
     "name": "stdout",
     "output_type": "stream",
     "text": [
      "(Initialized SchoolMember: Mrs. Shrividya)\n",
      "(Initialized Teacher: Mrs. Shrividya)\n",
      "(Initialized SchoolMember: Swaroop)\n",
      "(Initialized Student: Swaroop)\n",
      "\n",
      "Name:\"Mrs. Shrividya\" Age:\"40\" Salary: \"30000\"\n",
      "Name:\"Swaroop\" Age:\"25\" Marks: \"75\"\n"
     ]
    }
   ],
   "source": [
    " class SchoolMember:\n",
    "    '''Represents any school member.''' \n",
    "    def __init__(self, name, age):\n",
    "        self.name = name\n",
    "        self.age = age\n",
    "        print('(Initialized SchoolMember: {})'.format(self.name))\n",
    "        \n",
    "    def tell(self):\n",
    "        '''Tell my details.'''\n",
    "        print('Name:\"{}\" Age:\"{}\"'.format(self.name, self.age), end=\" \")\n",
    "    \n",
    "class Teacher(SchoolMember):\n",
    "    '''Represents a teacher.'''\n",
    "    def __init__(self, name, age, salary):\n",
    "        SchoolMember.__init__(self, name, age)\n",
    "        self.salary = salary\n",
    "        print('(Initialized Teacher: {})'.format(self.name))\n",
    "    \n",
    "    def tell(self):\n",
    "        SchoolMember.tell(self)\n",
    "        print('Salary: \"{:d}\"'.format(self.salary))\n",
    "        \n",
    "class Student(SchoolMember): \n",
    "    '''Represents a student.'''\n",
    "    def __init__(self, name, age, marks):\n",
    "        SchoolMember.__init__(self, name, age)\n",
    "        self.marks = marks\n",
    "        print('(Initialized Student: {})'.format(self.name))\n",
    "    \n",
    "    def tell(self):\n",
    "        SchoolMember.tell(self)\n",
    "        print('Marks: \"{:d}\"'.format(self.marks))\n",
    "        \n",
    "t = Teacher('Mrs. Shrividya', 40, 30000) \n",
    "s = Student('Swaroop', 25, 75)\n",
    "\n",
    "# prints a blank line\n",
    "print()\n",
    "members = [t, s]\n",
    "for member in members:\n",
    "     member.tell()\n",
    "   "
   ]
  },
  {
   "cell_type": "markdown",
   "metadata": {},
   "source": [
    "To use inheritance, we specify the base class names in a tuple following the class name in the class definition (for example, class Teacher(SchoolMember) ). Next, we observe that the __init__ method of the base class is explicitly called using the self variable so that we can initialize the base class part of an instance in the subclass. This is very important to remember- Since we are defining a __init__ method in Teacher and Student subclasses, Python does not automatically call the constructor of the base class SchoolMember , you have to explicitly call it yourself."
   ]
  },
  {
   "cell_type": "markdown",
   "metadata": {},
   "source": [
    "In contrast, if we have not defined an __init__ in the subclass, python will call the constructor of the base class automatically."
   ]
  },
  {
   "cell_type": "markdown",
   "metadata": {},
   "source": [
    "While we could treat instances of Teacher or method in a subclass, Python will call the constructor of the base class\n",
    "as we would an instance of SchoolMember and access the tell\n",
    "or Student.tell , we instead define another tell method in each for part of it) to tailor it for that subclass. Because we have done this, when\n",
    " method of SchoolMember\n",
    "subclass (using the tell method of\n",
    "by simply typing\n",
    "Student\n",
    "Teacher.tell\n",
    " SchoolMember\n",
    "we write Teacher.tell\n",
    "method in the subclass, Python would use the tell method in the superclass. Python always starts looking for methods in the actual subclass type first, and if it doesn’t find anything, it starts looking at the methods in the subclass’s base classes, one by one in the order they are specified in the tuple (here we only have 1 base class, but you can have multiple base classes) in the class definition."
   ]
  },
  {
   "cell_type": "markdown",
   "metadata": {},
   "source": [
    "A note on terminology - if more than one class is listed in the inheritance tuple, then it is called multiple inheritance.\n",
    "\n",
    "\n",
    "The end parameter is used in the print function in the superclass's tell() method to print a line and allow the next print to\n",
    "continue on the same line. This is a trick to make print not print a \\n (newline) symbol at the end of the printing.\n"
   ]
  },
  {
   "cell_type": "code",
   "execution_count": null,
   "metadata": {},
   "outputs": [],
   "source": []
  }
 ],
 "metadata": {
  "kernelspec": {
   "display_name": "Python 3",
   "language": "python",
   "name": "python3"
  },
  "language_info": {
   "codemirror_mode": {
    "name": "ipython",
    "version": 3
   },
   "file_extension": ".py",
   "mimetype": "text/x-python",
   "name": "python",
   "nbconvert_exporter": "python",
   "pygments_lexer": "ipython3",
   "version": "3.8.5"
  }
 },
 "nbformat": 4,
 "nbformat_minor": 4
}
